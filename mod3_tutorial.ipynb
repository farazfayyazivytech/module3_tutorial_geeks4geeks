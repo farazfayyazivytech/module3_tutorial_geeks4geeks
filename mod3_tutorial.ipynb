{
 "cells": [
  {
   "cell_type": "code",
   "execution_count": 3,
   "id": "4dca5716-38dc-415b-b1c5-395bef663717",
   "metadata": {},
   "outputs": [],
   "source": [
    "# Function to sort an array of 0s, 1s, and 2s\n",
    "def sort012(self, arr):\n",
    "    # code here\n",
    "    return arr.sort()"
   ]
  },
  {
   "cell_type": "code",
   "execution_count": 4,
   "id": "7a74fc2d-7b05-4adc-9b34-464fd1b9c284",
   "metadata": {},
   "outputs": [],
   "source": [
    "def binarysearch(self, arr, k):\n",
    "    # Code Here\n",
    "    middle = 0 # sets up middle variable\n",
    "    start = 0 # sets up start variable\n",
    "    end = len(arr) - 1 # sets up end variable with the length of the arr\n",
    "\n",
    "    # while loop will reoccur until the target is found\n",
    "    while (start <= end):\n",
    "        middle = (start + end) // 2 # creates a new middle length\n",
    "\n",
    "        # if statement checks the k, if k is within the arr, correctly changes the arr to find element\n",
    "        if k == arr[middle]:\n",
    "            return middle\n",
    "        if k < arr[middle]:\n",
    "            end = middle - 1\n",
    "        else:\n",
    "            start = middle + 1\n",
    "\n",
    "    return -1"
   ]
  }
 ],
 "metadata": {
  "kernelspec": {
   "display_name": "Python 3 (ipykernel)",
   "language": "python",
   "name": "python3"
  },
  "language_info": {
   "codemirror_mode": {
    "name": "ipython",
    "version": 3
   },
   "file_extension": ".py",
   "mimetype": "text/x-python",
   "name": "python",
   "nbconvert_exporter": "python",
   "pygments_lexer": "ipython3",
   "version": "3.12.4"
  }
 },
 "nbformat": 4,
 "nbformat_minor": 5
}
